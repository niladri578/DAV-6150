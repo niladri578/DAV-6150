{
 "cells": [
  {
   "cell_type": "markdown",
   "metadata": {},
   "source": [
    "<br>\n",
    "<br>\n",
    "<br>\n",
    "<br>\n",
    "\n",
    "# DAV 6150 Module 1: Getting Started\n",
    "<br>\n",
    "<br>\n",
    "<br>"
   ]
  },
  {
   "cell_type": "markdown",
   "metadata": {},
   "source": [
    "## About Your Instructor\n",
    "\n",
    "   __Samar Deen__ (samar.deen@yu.edu)\n",
    "\n",
    "### Professional Background\n",
    "\n",
    "- Corporate and Development sector\n",
    "\n",
    "- Predictive Modeling, Machine Learning, Project/Program Management, etc.\n",
    "    \n",
    "- Have worked in house Data Science teams at IBM, Microsoft on Marketing, Finance, Sales, Cloud services\n",
    "    \n",
    "### Educational Background\n",
    "    \n",
    "    \n",
    "- P.H.D Natural Resources + Quantitative Modeling\n",
    "    \n",
    "    \n",
    "- M.P.A International Development \n",
    "  \n",
    "  \n",
    "- B.S. Computer Science \n",
    "  \n",
    "  \n",
    "### Experience With Data Science/Analytics + Computer Languages\n",
    "\n",
    "- Predictive Modeling & Machine Learning (R, Python), Simulation Modeling, Experimentation,  etc.\n",
    "\n",
    "- Python, R, C++\n",
    "\n",
    "\n",
    "### Spoken Languages\n",
    "\n",
    "\n",
    "- Fluent in English + Urdu + Hindi\n",
    "\n",
    "<br>\n",
    "<br>\n",
    "<br>\n"
   ]
  },
  {
   "cell_type": "markdown",
   "metadata": {},
   "source": [
    "## What is the Life Cycle of a Typical Data Science Project?\n",
    "\n",
    "__Step 1__: Define a question to be investigated\n",
    "\n",
    "__Step 2__: Identify + acquire the data you believe will help you answer the question(s) you have\n",
    "\n",
    "__Step 3__: Exploratory Data Analysis (EDA)\n",
    "\n",
    "__Step 4__: Data Preparation (e.g, \"cleansing\" your data of extraneous content; transforming the data into a format / structure that is appropriate for the problem at hand; creating visualizations to help you better understand the data; etc.)\n",
    "\n",
    "__Step 5__: Data Splitting (e.g., separating data into training + validation + testing subsets as needed)\n",
    "\n",
    "__Step 6__: Model Training + Selection (including selecting which type(s) of model(s) to use)\n",
    "\n",
    "__Step 7__: Model Testing\n",
    "\n",
    "__Step 8__: Communicate your findings + revise model and/or data as needed (repeat Steps 2 - 7 as necessary)\n",
    "\n",
    "__Step 9__: Model Deployment\n",
    "\n",
    "\n",
    "### > \"Guesstimates\" indicate that up to 80% of an analytics professional's time is spent on Steps 1-4\n",
    "\n",
    "\n",
    "### > This course is primarily focused on the proper selection + implementation of appropriate machine learning algorithms (Steps 6 - 8)\n",
    "\n",
    "\n",
    "### > However, nearly every Assignment or Project in this course will require the use of Steps 2 - 8 of the data science project lifecycle.\n",
    "\n",
    "\n",
    "### > Since the proper use of machine learning algorithms is usually dependent upon the type of data to be analyzed, data sets will be provided for all Assignments + Projects in this course with the exception of the Final Project.\n",
    "\n",
    "\n",
    "### > Students enrolled in this course are expected to already have substantive experience / proficiency with all of the following:\n",
    "\n",
    "- The Anaconda Python development environment, Jupyter Notebooks and the Spyder IDE\n",
    "\n",
    "\n",
    "- Python programming, including how to use + implement user-defined functions, how to properly add useful comments to code, how to use MatPlotLib and Seaborn to create meaningful + easily understandable graphics, __how to debug your own code__, etc.\n",
    "\n",
    "\n",
    "- Use of Colab for presenting and/or developing a Jupyter-based narrative + related Python code and graphics.\n",
    "\n",
    "\n",
    "- Github, including how to load, download, and read data sets to/from your own pre-existing Github repositories\n",
    "\n",
    "\n",
    "- Exploratory Data Analysis, including the derivation + interpretation of relevant summary statistics, formulation of appropriate exploratory graphics, including, but not limited to, histograms, bar plots, box plots, correlation matrices, quartiles, IQR's, means, medians, standard deviations, variances, etc.\n",
    "\n",
    "\n",
    "- Mathematical statistics, basic linear algebra concepts, differential calculus, linear regression modeling.\n",
    "    "
   ]
  },
  {
   "cell_type": "markdown",
   "metadata": {},
   "source": [
    "## Syllabus\n",
    "\n",
    "As you review the Course Syllabus, please note the following:\n",
    "\n",
    "- All learning materials relevant to the Assignments and Projects will be released at least 2 weeks prior to the due date for the related Assignment or Project.\n",
    "\n",
    "\n",
    "- There are a total of __8 Assignments__ throughout the semester. \n",
    "\n",
    "\n",
    "- There is no graded Assignment for __Module 1__.\n",
    "\n",
    "\n",
    "- The Assignment due with __Module 2 MUST__ be completed by each of you on an individual basis (i.e., no team submissions). Make sure the work you submit for the __Module 2__ Assignment is __YOURS and YOURS ALONE__\n",
    "\n",
    "\n",
    "- The __Content Presentation / Weekly Content Assignment__ will be an independent presentation of a Leet Code topic of your choice, or the current weeks content presented during class.\n",
    "\n",
    "\n",
    "- __For all Assignments and Projects subsequent to Module 2 you are STRONGLY encouraged to work in small groups of 3 people__. The Assignments and Projects each entail a substantive amount of analytical + modeling work. As such, you are more likely to be successful in this course if you team up with others to complete the required work.\n",
    "\n",
    "\n",
    "- The Assignment due with __Module 2__ as well as __Projects 1 and 2__ each require the creation of a short video presentation of your work. These videos will be submitted via Canvas along with your other Assignment / Project materials. __These video presentations do not require you to appear on screen__. Instead, the videos should showcase your presentation materials while utilzing audio narration from team members.\n",
    "\n",
    "\n",
    "- __Module 14__ includes the Final Exam covering all of the materials covered within Modules 1 through 14.\n",
    "\n",
    "\n",
    "- You will be completing a Final Project (24% of your total grade for the course) which will entail the use of the full data science project lifecycle, including the defining of your own research question(s) + the identification of your own data sets. Guidelines for your Final Project (including the mandatory content of your Final Project Proposals) will be distributed with __Module 4__. First drafts of your Final Project Proposals are due at the conclusion of __Module 7__. Final Project writeups are due at the conclusion of __Module 14__, and Final Project presentations will be delivered \"live\" during our final class session. \n"
   ]
  },
  {
   "cell_type": "markdown",
   "metadata": {},
   "source": [
    "## Textbooks\n",
    "\n",
    "#### Required Textbooks:\n",
    "\n",
    "-\t_Feature Engineering and Selection_ (Kuhn, Johnson), CRC Press\n",
    "\n",
    "\n",
    "-\t_Machine Learning Pocket Reference_ (Matt Harrison), O’Reilly\n",
    "https://github.com/mattharrison/ml_pocket_reference (link to all Python code examples provided in textbook)\n",
    "\n",
    "\n",
    "-\t_Hands-On Machine Learning with Scikit-Learn, Keras, and Tensorflow, 2nd Edition_ (Aurelien Geron) O’Reilly\n",
    "https://github.com/ageron/handson-ml2 (link to sample Python code examples provided in textbook)\n",
    "\n",
    "\n",
    "-\t_Data Science From Scratch, 2nd Edition_ (Joel Grus), O’Reilly\n",
    "https://github.com/joelgrus/data-science-from-scratch (link to sample Python code examples provided in textbook)\n",
    "\n",
    "\n",
    "#### Recommended Textbooks:\n",
    "\n",
    "-\t_Data Science for Business_ (Provost, Fawcett) O’Reilly\n"
   ]
  },
  {
   "cell_type": "markdown",
   "metadata": {},
   "source": [
    "## A Refresher: \"Observations\", \"Attributes\", \"Features\", \"Response\" Variables & \"Explanatory\" Variables\n",
    "\n",
    "- In data science an __\"attribute\"__ (a.k.a., __\"feature\"__) is generally defined as a data field or variable that represents a single aspect of a broader data observation. For example, if we are recording meteorological data via a weather station, at any given point in time we might be collecting attributes such as temperature, wind speed, humidity, and ambient air pressure. If we are provided with a data set comprised of rows and columns of data and each column represents a distinct variable, we generally refer to the columns as __\"attributes\"__ or __\"features\"__.\n",
    "\n",
    "\n",
    "- An __\"observation\"__ represents a collections of attributes that comprise the characteristics of a single data record. For example, if we are provided with a data set comprised of many rows and columns of data, each row is considered to be a distinct \"observation\". (__NOTE__: Some scientists also refer to such collections of attributes as __\"feature vectors\"__ or __\"attribute vectors\"__).\n",
    "\n",
    "\n",
    "- A __\"response\" (aka \"Dependent\")__ variable is the term used to describe an attribute we plan to use as the output of a machine learning model. For example, when constructing a predictive model, the variable we are attempting to predict would identified as the __\"response\"__ variable.\n",
    "\n",
    "\n",
    "- By contrast, __\"Explanatory\" (aka \"Independent\" or \"Predictor\")__ variables are attributes we use as inputs to our machine learning models for purposes of estimating or predicting the value of a response variable.\n",
    "\n",
    "\n",
    "## Types of Machine Learning Systems\n",
    "\n",
    "### Supervised vs. Unsupervised vs. Semisupervised vs. Reinforcement Learning\n",
    "\n",
    "- __Supervised Learning__: The data set used to train the machine learning model __includes__ \"labels\" that represent the actual response variable value for every given observation. Examples of machine learning algorithms that supervised learning include regression models, support vector machines, decision trees, Naive Bayes models, K-nearest neighbor models, and many neural network algorithms.\n",
    "\n",
    "\n",
    "- __Unsupervised Learning__: The machine learning model is provided with a data set that contains no data values for the desired response variable. Examples of machine learning algorithms that enable unsupervised learning include clustering algorithms and some neural network algorithms. \n",
    "\n",
    "\n",
    "- __Semisupervised Learning__: The data set used to train the machine learning model is __partially labeled__, i.e., some observations contain the actual data value for the desired response variable while some do not. Most semisupervised machine learning algorithms are constructed by combining supervised and unsupervised algorithms. Examples include deep belief networks (DBN's) and restricted Boltzman machines (RBM's). Semisupervised learning algorithms are beyond the scope of this course.\n",
    "\n",
    "\n",
    "- __Reinforcement Learning__: Reinforcement learning is much more computationally complex than supervised or unsupervised learning. Reinforcement learning requires the implementation of an \"agent\" that can observe its environment and then initiate actions in response to what it has observed. Examples of reinforcement learning include some robotics applications that incorporate sensors and/or machine vision components. Due to time constraints, reinforcement learning systems are beyond the scope of this course.\n",
    "\n",
    "\n",
    "### Online vs. Batch Machine Learning Systems\n",
    "\n",
    "- __Online__ machine learning systems can learn incrementally from a continuous stream of incoming data. Such systems are often used when the data available for model training vastly exceeds the available computing resources or when continuous homogeneous data feeds are readily available. For example, some capital markets trading algorithms are capable of accepting ongoing feeds to financial market data for purposes of enhancing / refining their predictions. \n",
    "\n",
    "\n",
    "- By contrast, __batch__ machine learning systems require the inputting of all available data for purposes of model training. The focus of this course will be on machine learning algorithms that are primarily used within a batch learning context (though some can be adapted to \"online\" usage).\n",
    "\n",
    "\n",
    "### Instance Based vs. Model Based Machine Learning Systems\n",
    "\n",
    "- __Instance Based__ machine learning systems rely on __similarity metrics__ for purposes of generating predictions for previously unseen data observations. Examples of __instance based__ machine learning algorithms include K-nearest neighbors and K-means clustering.\n",
    "\n",
    "\n",
    "- By contrast, __model based__ machine learning algorithms require that we embed all of our assumptions about the problem we are trying to solve within the form of a model and then use that model to make predictions for the response variable of a previously unseen data observation."
   ]
  },
  {
   "cell_type": "markdown",
   "metadata": {},
   "source": [
    "## Main Challenges of Machine Learning\n",
    "\n",
    "- __Insufficient Data__: If we lack a substantive amount of data to train a model the results may prove to be ineffective and/or wildly inaccurate when applied to previously unseen data of the same type.\n",
    "\n",
    "\n",
    "- __Nonrepresentative Training Data__: If the data we train a model with is not representative of the actual data to which it will be applied the resulting model will likely be ineffective when applied to previously unseen data.\n",
    "\n",
    "\n",
    "- __Sampling Bias__: Sampling bias occurs when we a model we have trained using a non-random sample of a population. As a result of the non-random sampling our training data underrepresents certain sub-populations of the broader population. Using such data to train a machine learning model the results will likely be a model that is ineffective when applied to data from the broader population.\n",
    "\n",
    "\n",
    "- __Sampling Noise__: If our model is trained on a data set that is too small to accurately reflect the broader population of data from which the model is to be applied, the model is likely to be ineffective when applied to previously unseen data from that broader population. Such models are said to suffer from \"sampling noise\".\n",
    "\n",
    "\n",
    "- __Poor Quality Data__: If our training data is representative but suffers from too many missing or invalid data values, the resulting model is likely to be ineffective.\n",
    "\n",
    "\n",
    "- __Irrelevant Features__: If our training data contains attributes/features that are not \"predictive\" of our intended response variable(s), we are unlikely to achieve the implementation of an effective model. Examples of irrelevant features can include attributes such as unique identifiers and other attributes that are in no way useful for purposes of estimating the value of a response variable.\n",
    "\n",
    "\n",
    "- __Overfitting__: Our model is highly accurate when applied to our training data but relatively inaccurate when applied to previously unseen data.\n",
    "\n",
    "\n",
    "- __Underfitting__: Our model is too \"simple\" relative to the broader population of data we intend to apply it to and as a result its output is not very useful.\n",
    "\n"
   ]
  },
  {
   "cell_type": "code",
   "execution_count": 22,
   "metadata": {},
   "outputs": [
    {
     "name": "stderr",
     "output_type": "stream",
     "text": [
      "C:\\Users\\samardeen\\AppData\\Local\\Temp\\ipykernel_21260\\1895149589.py:26: RankWarning: Polyfit may be poorly conditioned\n",
      "  fit(ax, x,y, sort=True)\n"
     ]
    },
    {
     "data": {
      "image/png": "[encoded data removed]",
      "text/plain": [
       "<Figure size 600x300 with 1 Axes>"
      ]
     },
     "metadata": {},
     "output_type": "display_data"
    }
   ],
   "source": [
    "import matplotlib.pyplot as plt\n",
    "import numpy as np; np.random.seed(0)\n",
    "\n",
    "x = (np.random.normal(size=300)+1)\n",
    "fo = lambda x: -3*x**2+ 1.*x +20. \n",
    "f = lambda x: fo(x) + (np.random.normal(size=len(x))-0.5)*4\n",
    "y = f(x)\n",
    "\n",
    "fig, (ax) = plt.subplots(1,1, figsize=(6,3))\n",
    "ax.scatter(x,y)\n",
    "\n",
    "def fit(ax, x,y, sort=True):\n",
    "    z = np.polyfit(x, y, 1) #underfit\n",
    "    underfit = np.poly1d(z)\n",
    "    z2 = np.polyfit(x, y, 50) #overfit\n",
    "    overfit = np.poly1d(z2)\n",
    "\n",
    "    x = np.sort(x)\n",
    "    ax.set_title(\"Testing Fit Function\")\n",
    "    ax.plot(x, fo(x), label=\"original func\", color=\"k\", alpha=0.6, lw =2.5)\n",
    "    ax.plot(x, overfit(x), label=\"overfit func\", color=\"C3\", alpha=1, lw=2.5  )  \n",
    "    ax.plot(x, underfit(x), label=\"underfit func\", color=\"C11\", alpha=1, lw=2.5  )  \n",
    "\n",
    "    ax.legend()\n",
    "\n",
    "fit(ax, x,y, sort=True)\n",
    "\n",
    "plt.show()"
   ]
  },
  {
   "cell_type": "markdown",
   "metadata": {},
   "source": [
    "## Module 2 Assignment\n",
    "\n",
    "- Your first Assignment for the course is due at the conclusion of Module 2. All Module 2 materials have been released to you on Canvas so feel free to get started ASAP on the required readings + Assignment. \n",
    "\n",
    "\n",
    "- Also, be sure to complete the required Discussion for Module 2 before the required due date!!\n",
    "\n"
   ]
  },
  {
   "cell_type": "code",
   "execution_count": 3,
   "metadata": {},
   "outputs": [
    {
     "name": "stdout",
     "output_type": "stream",
     "text": [
      "This is a demo to check commit through codespaces\n"
     ]
    }
   ],
   "source": [
    "print(\"This is a demo to check commit through codespaces\")"
   ]
  },
  {
   "cell_type": "code",
   "execution_count": 5,
   "metadata": {},
   "outputs": [
    {
     "name": "stdout",
     "output_type": "stream",
     "text": [
      "this is from niladri\n"
     ]
    }
   ],
   "source": [
    "print(\"this is from niladri2\")"
   ]
  },
  {
   "cell_type": "code",
   "execution_count": null,
   "metadata": {},
   "outputs": [],
   "source": []
  },
  {
   "cell_type": "code",
   "execution_count": null,
   "metadata": {},
   "outputs": [],
   "source": []
  },
  {
   "cell_type": "code",
   "execution_count": null,
   "metadata": {},
   "outputs": [],
   "source": []
  }
 ],
 "metadata": {
  "kernelspec": {
   "display_name": "Python 3 (ipykernel)",
   "language": "python",
   "name": "python3"
  },
  "language_info": {
   "codemirror_mode": {
    "name": "ipython",
    "version": 3
   },
   "file_extension": ".py",
   "mimetype": "text/x-python",
   "name": "python",
   "nbconvert_exporter": "python",
   "pygments_lexer": "ipython3",
   "version": "3.12.1"
  }
 },
 "nbformat": 4,
 "nbformat_minor": 2
}
